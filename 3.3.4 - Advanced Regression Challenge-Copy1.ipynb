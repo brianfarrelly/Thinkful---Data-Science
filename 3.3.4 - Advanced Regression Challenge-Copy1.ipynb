{
 "cells": [
  {
   "cell_type": "markdown",
   "metadata": {},
   "source": [
    "# Advance Regression Challenge\n",
    "\n",
    "Now that you have two new regression methods at your fingertips, it's time to give them a spin. In fact, for this challenge, let's put them together! Pick a dataset of your choice with a binary outcome and the potential for at least 15 features. If you're drawing a blank, the crime rates in 2013 dataset has a lot of variables that could be made into a modelable binary outcome.\n",
    "\n",
    "Engineer your features, then create three models. Each model will be run on a training set and a test-set (or multiple test-sets, if you take a folds approach). The models should be:\n",
    "\n",
    "- Vanilla logistic regression\n",
    "- Ridge logistic regression\n",
    "- Lasso logistic regression\n",
    "\n",
    "If you're stuck on how to begin combining your two new modeling skills, here's a hint: the [SKlearn LogisticRegression method](https://scikit-learn.org/stable/modules/generated/sklearn.linear_model.LogisticRegression.html) has a \"penalty\" argument that takes either 'l1' or 'l2' as a value.\n",
    "\n",
    "In your report, evaluate all three models and decide on your best. Be clear about the decisions you made that led to these models (feature selection, regularization parameter selection, model evaluation criteria) and why you think that particular model is the best of the three. Also reflect on the strengths and limitations of regression as a modeling approach. Were there things you couldn't do but you wish you could have done?\n",
    "\n",
    "Record your work and reflections in a notebook to discuss with your mentor."
   ]
  },
  {
   "cell_type": "code",
   "execution_count": 1,
   "metadata": {},
   "outputs": [],
   "source": [
    "import pandas as pd\n",
    "import seaborn as sns\n",
    "from matplotlib import pyplot as plt\n",
    "import numpy as np\n",
    "import sklearn\n",
    "from sklearn import linear_model\n",
    "import statsmodels.formula.api as smf\n",
    "from statsmodels.sandbox.regression.predstd import wls_prediction_std\n",
    "%matplotlib inline\n",
    "pd.options.display.float_format = '{:.3f}'.format\n",
    "%matplotlib inline\n",
    "sns.set_style('white')\n",
    "# Suppress annoying harmless error.\n",
    "import warnings\n",
    "warnings.filterwarnings(action=\"ignore\", module=\"scipy\", message=\"^internal gelsd\")\n",
    "from sklearn import linear_model\n",
    "from sklearn import preprocessing\n",
    "import math\n",
    "import statsmodels.api as sm\n",
    "from sklearn.linear_model import LogisticRegression"
   ]
  },
  {
   "cell_type": "markdown",
   "metadata": {},
   "source": [
    "## Load/Clean Data\n",
    "\n",
    "For this challenge the Crime Data for California, from the Linear Regression challenge, will be used:\n",
    "\n",
    "[Download the Excel file here](https://ucr.fbi.gov/crime-in-the-u.s/2013/crime-in-the-u.s.-2013/tables/table-8/table-8-state-cuts/table_8_offenses_known_to_law_enforcement_new_york_by_city_2013.xls) on crime data in New York State in 2013, provided by the FBI: UCR.\n",
    "\n",
    "Prepare this data to model with multivariable regression (including data cleaning if necessary) according to this specification:\n",
    "\n",
    "Propertycrime=α+Population+Population^2+Murder+Robbery\n",
    " \n",
    "The 'population' variable is already set for you, but you will need to create the last three features. Robbery and Murder are currently continuous variables. For this model, please use these variables to create categorical features where values greater than 0 are coded 1, and values equal to 0 are coded 0. You'll use this data and model in a later assignment- for now, just write the code you need to get the data ready. Don't forget basic data cleaning procedures, either! Do some graphing to see if there are any anomalous cases, and decide how you want to deal with them.\n",
    "\n",
    "1) The figures shown in this column for the offense of rape were reported using the revised Uniform Crime Reporting (UCR) definition of rape. See Data Declaration for further explanation.\n",
    "\n",
    "2) The figures shown in this column for the offense of rape were reported using the legacy UCR definition of rape. See Data Declaration for further explanation.\n",
    "\n",
    "3) The FBI does not publish arson data unless it receives data from either the agency or the state for all 12 months of the calendar year.\n",
    "\n",
    "**Link to the [Data Declaration](https://ucr.fbi.gov/crime-in-the-u.s/2013/crime-in-the-u.s.-2013/tables/table-8/table-8-state-cuts/table_8_offenses_known_to_law_enforcement_new_york_by_city_2013.xls/@@template-layout-view?override-view=data-declaration) page**"
   ]
  },
  {
   "cell_type": "code",
   "execution_count": 2,
   "metadata": {},
   "outputs": [
    {
     "data": {
      "text/html": [
       "<div>\n",
       "<style scoped>\n",
       "    .dataframe tbody tr th:only-of-type {\n",
       "        vertical-align: middle;\n",
       "    }\n",
       "\n",
       "    .dataframe tbody tr th {\n",
       "        vertical-align: top;\n",
       "    }\n",
       "\n",
       "    .dataframe thead th {\n",
       "        text-align: right;\n",
       "    }\n",
       "</style>\n",
       "<table border=\"1\" class=\"dataframe\">\n",
       "  <thead>\n",
       "    <tr style=\"text-align: right;\">\n",
       "      <th></th>\n",
       "      <th>City</th>\n",
       "      <th>Population</th>\n",
       "      <th>Violent_crime</th>\n",
       "      <th>Murder</th>\n",
       "      <th>Rape</th>\n",
       "      <th>Robbery</th>\n",
       "      <th>Aggravated_assault</th>\n",
       "      <th>Property_crime</th>\n",
       "      <th>Burglary</th>\n",
       "      <th>Larceny_theft</th>\n",
       "      <th>Motor_vehicle_theft</th>\n",
       "      <th>Arson</th>\n",
       "    </tr>\n",
       "  </thead>\n",
       "  <tbody>\n",
       "    <tr>\n",
       "      <th>4</th>\n",
       "      <td>Adelanto</td>\n",
       "      <td>31,165</td>\n",
       "      <td>198</td>\n",
       "      <td>2</td>\n",
       "      <td>15</td>\n",
       "      <td>52</td>\n",
       "      <td>129</td>\n",
       "      <td>886</td>\n",
       "      <td>381</td>\n",
       "      <td>372</td>\n",
       "      <td>133</td>\n",
       "      <td>17</td>\n",
       "    </tr>\n",
       "    <tr>\n",
       "      <th>5</th>\n",
       "      <td>Agoura Hills</td>\n",
       "      <td>20,762</td>\n",
       "      <td>19</td>\n",
       "      <td>0</td>\n",
       "      <td>2</td>\n",
       "      <td>10</td>\n",
       "      <td>7</td>\n",
       "      <td>306</td>\n",
       "      <td>109</td>\n",
       "      <td>185</td>\n",
       "      <td>12</td>\n",
       "      <td>7</td>\n",
       "    </tr>\n",
       "    <tr>\n",
       "      <th>6</th>\n",
       "      <td>Alameda</td>\n",
       "      <td>76,206</td>\n",
       "      <td>158</td>\n",
       "      <td>0</td>\n",
       "      <td>10</td>\n",
       "      <td>85</td>\n",
       "      <td>63</td>\n",
       "      <td>1,902</td>\n",
       "      <td>287</td>\n",
       "      <td>1,285</td>\n",
       "      <td>330</td>\n",
       "      <td>17</td>\n",
       "    </tr>\n",
       "    <tr>\n",
       "      <th>7</th>\n",
       "      <td>Albany</td>\n",
       "      <td>19,104</td>\n",
       "      <td>29</td>\n",
       "      <td>0</td>\n",
       "      <td>1</td>\n",
       "      <td>24</td>\n",
       "      <td>4</td>\n",
       "      <td>557</td>\n",
       "      <td>94</td>\n",
       "      <td>388</td>\n",
       "      <td>75</td>\n",
       "      <td>7</td>\n",
       "    </tr>\n",
       "    <tr>\n",
       "      <th>8</th>\n",
       "      <td>Alhambra</td>\n",
       "      <td>84,710</td>\n",
       "      <td>163</td>\n",
       "      <td>1</td>\n",
       "      <td>9</td>\n",
       "      <td>81</td>\n",
       "      <td>72</td>\n",
       "      <td>1,774</td>\n",
       "      <td>344</td>\n",
       "      <td>1,196</td>\n",
       "      <td>234</td>\n",
       "      <td>7</td>\n",
       "    </tr>\n",
       "  </tbody>\n",
       "</table>\n",
       "</div>"
      ],
      "text/plain": [
       "           City Population Violent_crime Murder Rape Robbery  \\\n",
       "4      Adelanto     31,165           198      2   15      52   \n",
       "5  Agoura Hills     20,762            19      0    2      10   \n",
       "6       Alameda     76,206           158      0   10      85   \n",
       "7        Albany     19,104            29      0    1      24   \n",
       "8      Alhambra     84,710           163      1    9      81   \n",
       "\n",
       "  Aggravated_assault Property_crime Burglary Larceny_theft  \\\n",
       "4                129            886      381           372   \n",
       "5                  7            306      109           185   \n",
       "6                 63          1,902      287         1,285   \n",
       "7                  4            557       94           388   \n",
       "8                 72          1,774      344         1,196   \n",
       "\n",
       "  Motor_vehicle_theft Arson  \n",
       "4                 133    17  \n",
       "5                  12     7  \n",
       "6                 330    17  \n",
       "7                  75     7  \n",
       "8                 234     7  "
      ]
     },
     "execution_count": 2,
     "metadata": {},
     "output_type": "execute_result"
    }
   ],
   "source": [
    "# import CA data and show format\n",
    "df = pd.read_csv('table_8_offenses_known_to_law_enforcement_california_by_city_2013.csv')\n",
    "# rename the columns\n",
    "df.rename(columns={'Table 8': 'City', 'Unnamed: 1': 'Population', 'Unnamed: 2': 'Violent_crime', \n",
    "                   'Unnamed: 3': 'Murder', 'Unnamed: 4': 'Rape (revised definition)', \n",
    "                   'Unnamed: 5': 'Rape', 'Unnamed: 6': 'Robbery', \n",
    "                   'Unnamed: 7': 'Aggravated_assault', 'Unnamed: 8': 'Property_crime', \n",
    "                   'Unnamed: 9': 'Burglary', 'Unnamed: 10': 'Larceny_theft', 'Unnamed: 11': 'Motor_vehicle_theft',\n",
    "                   'Unnamed: 12': 'Arson'}, inplace=True)\n",
    "# drop title rows from the csv file\n",
    "df=df.drop(['Unnamed: 13', 'Rape (revised definition)'], axis=1)\n",
    "df=df.drop([0, 1, 2, 3, 466, 467], axis=0)\n",
    "df.head()"
   ]
  },
  {
   "cell_type": "code",
   "execution_count": 3,
   "metadata": {},
   "outputs": [
    {
     "name": "stderr",
     "output_type": "stream",
     "text": [
      "/Users/kyleknoebel/anaconda3/lib/python3.6/site-packages/pandas/core/indexing.py:189: SettingWithCopyWarning: \n",
      "A value is trying to be set on a copy of a slice from a DataFrame\n",
      "\n",
      "See the caveats in the documentation: http://pandas.pydata.org/pandas-docs/stable/indexing.html#indexing-view-versus-copy\n",
      "  self._setitem_with_indexer(indexer, value)\n"
     ]
    }
   ],
   "source": [
    "# add state column\n",
    "df['State']='CA'\n",
    "# convert all numerical columns to integers\n",
    "for x in df.index:\n",
    "    df['Population'].loc[x]=int(df['Population'].loc[x].replace(',', ''))\n",
    "    df['Violent_crime'].loc[x]=int(df['Violent_crime'].loc[x].replace(',', ''))\n",
    "    df['Murder'].loc[x]=int(df['Murder'].loc[x].replace(',', ''))\n",
    "    df['Rape'].loc[x]=int(df['Rape'].loc[x].replace(',', ''))\n",
    "    df['Robbery'].loc[x]=int(df['Robbery'].loc[x].replace(',', ''))\n",
    "    df['Aggravated_assault'].loc[x]=int(df['Aggravated_assault'].loc[x].replace(',', ''))\n",
    "    df['Property_crime'].loc[x]=int(df['Property_crime'].loc[x].replace(',', ''))\n",
    "    df['Burglary'].loc[x]=int(df['Burglary'].loc[x].replace(',', ''))\n",
    "    df['Larceny_theft'].loc[x]=int(df['Larceny_theft'].loc[x].replace(',', ''))\n",
    "    df['Motor_vehicle_theft'].loc[x]=int(df['Motor_vehicle_theft'].loc[x].replace(',', ''))\n",
    "    df['Arson'].loc[x]=int(df['Arson'].loc[x].replace(',', ''))"
   ]
  },
  {
   "cell_type": "code",
   "execution_count": 4,
   "metadata": {},
   "outputs": [
    {
     "name": "stderr",
     "output_type": "stream",
     "text": [
      "/Users/kyleknoebel/anaconda3/lib/python3.6/site-packages/pandas/core/indexing.py:189: SettingWithCopyWarning: \n",
      "A value is trying to be set on a copy of a slice from a DataFrame\n",
      "\n",
      "See the caveats in the documentation: http://pandas.pydata.org/pandas-docs/stable/indexing.html#indexing-view-versus-copy\n",
      "  self._setitem_with_indexer(indexer, value)\n"
     ]
    },
    {
     "data": {
      "text/html": [
       "<div>\n",
       "<style scoped>\n",
       "    .dataframe tbody tr th:only-of-type {\n",
       "        vertical-align: middle;\n",
       "    }\n",
       "\n",
       "    .dataframe tbody tr th {\n",
       "        vertical-align: top;\n",
       "    }\n",
       "\n",
       "    .dataframe thead th {\n",
       "        text-align: right;\n",
       "    }\n",
       "</style>\n",
       "<table border=\"1\" class=\"dataframe\">\n",
       "  <thead>\n",
       "    <tr style=\"text-align: right;\">\n",
       "      <th></th>\n",
       "      <th>City</th>\n",
       "      <th>Population</th>\n",
       "      <th>Violent_crime</th>\n",
       "      <th>Murder</th>\n",
       "      <th>Rape</th>\n",
       "      <th>Robbery</th>\n",
       "      <th>Aggravated_assault</th>\n",
       "      <th>Property_crime</th>\n",
       "      <th>Burglary</th>\n",
       "      <th>Larceny_theft</th>\n",
       "      <th>Motor_vehicle_theft</th>\n",
       "      <th>Arson</th>\n",
       "      <th>State</th>\n",
       "      <th>Population^2</th>\n",
       "      <th>Murder Cat</th>\n",
       "      <th>Robbery Cat</th>\n",
       "    </tr>\n",
       "  </thead>\n",
       "  <tbody>\n",
       "    <tr>\n",
       "      <th>4</th>\n",
       "      <td>Adelanto</td>\n",
       "      <td>31165</td>\n",
       "      <td>198</td>\n",
       "      <td>2</td>\n",
       "      <td>15</td>\n",
       "      <td>52</td>\n",
       "      <td>129</td>\n",
       "      <td>886</td>\n",
       "      <td>381</td>\n",
       "      <td>372</td>\n",
       "      <td>133</td>\n",
       "      <td>17</td>\n",
       "      <td>CA</td>\n",
       "      <td>971257225</td>\n",
       "      <td>1</td>\n",
       "      <td>1</td>\n",
       "    </tr>\n",
       "    <tr>\n",
       "      <th>5</th>\n",
       "      <td>Agoura Hills</td>\n",
       "      <td>20762</td>\n",
       "      <td>19</td>\n",
       "      <td>0</td>\n",
       "      <td>2</td>\n",
       "      <td>10</td>\n",
       "      <td>7</td>\n",
       "      <td>306</td>\n",
       "      <td>109</td>\n",
       "      <td>185</td>\n",
       "      <td>12</td>\n",
       "      <td>7</td>\n",
       "      <td>CA</td>\n",
       "      <td>431060644</td>\n",
       "      <td>0</td>\n",
       "      <td>1</td>\n",
       "    </tr>\n",
       "    <tr>\n",
       "      <th>6</th>\n",
       "      <td>Alameda</td>\n",
       "      <td>76206</td>\n",
       "      <td>158</td>\n",
       "      <td>0</td>\n",
       "      <td>10</td>\n",
       "      <td>85</td>\n",
       "      <td>63</td>\n",
       "      <td>1902</td>\n",
       "      <td>287</td>\n",
       "      <td>1285</td>\n",
       "      <td>330</td>\n",
       "      <td>17</td>\n",
       "      <td>CA</td>\n",
       "      <td>5807354436</td>\n",
       "      <td>0</td>\n",
       "      <td>1</td>\n",
       "    </tr>\n",
       "    <tr>\n",
       "      <th>7</th>\n",
       "      <td>Albany</td>\n",
       "      <td>19104</td>\n",
       "      <td>29</td>\n",
       "      <td>0</td>\n",
       "      <td>1</td>\n",
       "      <td>24</td>\n",
       "      <td>4</td>\n",
       "      <td>557</td>\n",
       "      <td>94</td>\n",
       "      <td>388</td>\n",
       "      <td>75</td>\n",
       "      <td>7</td>\n",
       "      <td>CA</td>\n",
       "      <td>364962816</td>\n",
       "      <td>0</td>\n",
       "      <td>1</td>\n",
       "    </tr>\n",
       "    <tr>\n",
       "      <th>8</th>\n",
       "      <td>Alhambra</td>\n",
       "      <td>84710</td>\n",
       "      <td>163</td>\n",
       "      <td>1</td>\n",
       "      <td>9</td>\n",
       "      <td>81</td>\n",
       "      <td>72</td>\n",
       "      <td>1774</td>\n",
       "      <td>344</td>\n",
       "      <td>1196</td>\n",
       "      <td>234</td>\n",
       "      <td>7</td>\n",
       "      <td>CA</td>\n",
       "      <td>7175784100</td>\n",
       "      <td>1</td>\n",
       "      <td>1</td>\n",
       "    </tr>\n",
       "  </tbody>\n",
       "</table>\n",
       "</div>"
      ],
      "text/plain": [
       "           City  Population  Violent_crime  Murder  Rape  Robbery  \\\n",
       "4      Adelanto       31165            198       2    15       52   \n",
       "5  Agoura Hills       20762             19       0     2       10   \n",
       "6       Alameda       76206            158       0    10       85   \n",
       "7        Albany       19104             29       0     1       24   \n",
       "8      Alhambra       84710            163       1     9       81   \n",
       "\n",
       "   Aggravated_assault  Property_crime  Burglary  Larceny_theft  \\\n",
       "4                 129             886       381            372   \n",
       "5                   7             306       109            185   \n",
       "6                  63            1902       287           1285   \n",
       "7                   4             557        94            388   \n",
       "8                  72            1774       344           1196   \n",
       "\n",
       "   Motor_vehicle_theft  Arson State  Population^2  Murder Cat  Robbery Cat  \n",
       "4                  133     17    CA     971257225           1            1  \n",
       "5                   12      7    CA     431060644           0            1  \n",
       "6                  330     17    CA    5807354436           0            1  \n",
       "7                   75      7    CA     364962816           0            1  \n",
       "8                  234      7    CA    7175784100           1            1  "
      ]
     },
     "execution_count": 4,
     "metadata": {},
     "output_type": "execute_result"
    }
   ],
   "source": [
    "# add a population^2 column and add inputs\n",
    "df['Population^2']=df['Population']**2\n",
    "\n",
    "# add murder cat column and add inputs\n",
    "df['Murder Cat']=''\n",
    "for x in df.index:\n",
    "    if df['Murder'].loc[x] == 0:\n",
    "          df['Murder Cat'].loc[x]=df['Murder Cat'].loc[x].replace('', '0')\n",
    "    else:\n",
    "          df['Murder Cat'].loc[x]=df['Murder Cat'].loc[x].replace('', '1')\n",
    "# add robbery cat column and add inputs\n",
    "df['Robbery Cat']=''\n",
    "for x in df.index:\n",
    "    if df['Robbery'].loc[x] == 0:\n",
    "          df['Robbery Cat'].loc[x]=df['Robbery Cat'].loc[x].replace('', '0')\n",
    "    else:\n",
    "          df['Robbery Cat'].loc[x]=df['Robbery Cat'].loc[x].replace('', '1')\n",
    "# convert Robbery Cat and Murder Cat to integers\n",
    "for x in df.index:\n",
    "    df['Murder Cat'].loc[x]=int(df['Murder Cat'].loc[x])\n",
    "    df['Robbery Cat'].loc[x]=int(df['Robbery Cat'].loc[x])         \n",
    "df.head()"
   ]
  },
  {
   "cell_type": "markdown",
   "metadata": {},
   "source": [
    "For the for the Logistic regression in Stasmodel, a 'Robbery Prob' column will be added to the dataset as the probability of getting robbed depending on population. First we will find the max population in the dataframe:  "
   ]
  },
  {
   "cell_type": "code",
   "execution_count": 5,
   "metadata": {},
   "outputs": [
    {
     "data": {
      "text/plain": [
       "3878725"
      ]
     },
     "execution_count": 5,
     "metadata": {},
     "output_type": "execute_result"
    }
   ],
   "source": [
    "# find the max population\n",
    "df['Population'].max()"
   ]
  },
  {
   "cell_type": "markdown",
   "metadata": {},
   "source": [
    "In order to make this a probability, all population values will be divided by 10000000."
   ]
  },
  {
   "cell_type": "code",
   "execution_count": 6,
   "metadata": {},
   "outputs": [
    {
     "data": {
      "text/html": [
       "<div>\n",
       "<style scoped>\n",
       "    .dataframe tbody tr th:only-of-type {\n",
       "        vertical-align: middle;\n",
       "    }\n",
       "\n",
       "    .dataframe tbody tr th {\n",
       "        vertical-align: top;\n",
       "    }\n",
       "\n",
       "    .dataframe thead th {\n",
       "        text-align: right;\n",
       "    }\n",
       "</style>\n",
       "<table border=\"1\" class=\"dataframe\">\n",
       "  <thead>\n",
       "    <tr style=\"text-align: right;\">\n",
       "      <th></th>\n",
       "      <th>City</th>\n",
       "      <th>Population</th>\n",
       "      <th>Violent_crime</th>\n",
       "      <th>Murder</th>\n",
       "      <th>Rape</th>\n",
       "      <th>Robbery</th>\n",
       "      <th>Aggravated_assault</th>\n",
       "      <th>Property_crime</th>\n",
       "      <th>Burglary</th>\n",
       "      <th>Larceny_theft</th>\n",
       "      <th>Motor_vehicle_theft</th>\n",
       "      <th>Arson</th>\n",
       "      <th>State</th>\n",
       "      <th>Population^2</th>\n",
       "      <th>Murder Cat</th>\n",
       "      <th>Robbery Cat</th>\n",
       "      <th>Robbery Prob</th>\n",
       "    </tr>\n",
       "  </thead>\n",
       "  <tbody>\n",
       "    <tr>\n",
       "      <th>4</th>\n",
       "      <td>Adelanto</td>\n",
       "      <td>31165</td>\n",
       "      <td>198</td>\n",
       "      <td>2</td>\n",
       "      <td>15</td>\n",
       "      <td>52</td>\n",
       "      <td>129</td>\n",
       "      <td>886</td>\n",
       "      <td>381</td>\n",
       "      <td>372</td>\n",
       "      <td>133</td>\n",
       "      <td>17</td>\n",
       "      <td>CA</td>\n",
       "      <td>971257225</td>\n",
       "      <td>1</td>\n",
       "      <td>1</td>\n",
       "      <td>0.003</td>\n",
       "    </tr>\n",
       "    <tr>\n",
       "      <th>5</th>\n",
       "      <td>Agoura Hills</td>\n",
       "      <td>20762</td>\n",
       "      <td>19</td>\n",
       "      <td>0</td>\n",
       "      <td>2</td>\n",
       "      <td>10</td>\n",
       "      <td>7</td>\n",
       "      <td>306</td>\n",
       "      <td>109</td>\n",
       "      <td>185</td>\n",
       "      <td>12</td>\n",
       "      <td>7</td>\n",
       "      <td>CA</td>\n",
       "      <td>431060644</td>\n",
       "      <td>0</td>\n",
       "      <td>1</td>\n",
       "      <td>0.002</td>\n",
       "    </tr>\n",
       "    <tr>\n",
       "      <th>6</th>\n",
       "      <td>Alameda</td>\n",
       "      <td>76206</td>\n",
       "      <td>158</td>\n",
       "      <td>0</td>\n",
       "      <td>10</td>\n",
       "      <td>85</td>\n",
       "      <td>63</td>\n",
       "      <td>1902</td>\n",
       "      <td>287</td>\n",
       "      <td>1285</td>\n",
       "      <td>330</td>\n",
       "      <td>17</td>\n",
       "      <td>CA</td>\n",
       "      <td>5807354436</td>\n",
       "      <td>0</td>\n",
       "      <td>1</td>\n",
       "      <td>0.008</td>\n",
       "    </tr>\n",
       "    <tr>\n",
       "      <th>7</th>\n",
       "      <td>Albany</td>\n",
       "      <td>19104</td>\n",
       "      <td>29</td>\n",
       "      <td>0</td>\n",
       "      <td>1</td>\n",
       "      <td>24</td>\n",
       "      <td>4</td>\n",
       "      <td>557</td>\n",
       "      <td>94</td>\n",
       "      <td>388</td>\n",
       "      <td>75</td>\n",
       "      <td>7</td>\n",
       "      <td>CA</td>\n",
       "      <td>364962816</td>\n",
       "      <td>0</td>\n",
       "      <td>1</td>\n",
       "      <td>0.002</td>\n",
       "    </tr>\n",
       "    <tr>\n",
       "      <th>8</th>\n",
       "      <td>Alhambra</td>\n",
       "      <td>84710</td>\n",
       "      <td>163</td>\n",
       "      <td>1</td>\n",
       "      <td>9</td>\n",
       "      <td>81</td>\n",
       "      <td>72</td>\n",
       "      <td>1774</td>\n",
       "      <td>344</td>\n",
       "      <td>1196</td>\n",
       "      <td>234</td>\n",
       "      <td>7</td>\n",
       "      <td>CA</td>\n",
       "      <td>7175784100</td>\n",
       "      <td>1</td>\n",
       "      <td>1</td>\n",
       "      <td>0.008</td>\n",
       "    </tr>\n",
       "  </tbody>\n",
       "</table>\n",
       "</div>"
      ],
      "text/plain": [
       "           City  Population  Violent_crime  Murder  Rape  Robbery  \\\n",
       "4      Adelanto       31165            198       2    15       52   \n",
       "5  Agoura Hills       20762             19       0     2       10   \n",
       "6       Alameda       76206            158       0    10       85   \n",
       "7        Albany       19104             29       0     1       24   \n",
       "8      Alhambra       84710            163       1     9       81   \n",
       "\n",
       "   Aggravated_assault  Property_crime  Burglary  Larceny_theft  \\\n",
       "4                 129             886       381            372   \n",
       "5                   7             306       109            185   \n",
       "6                  63            1902       287           1285   \n",
       "7                   4             557        94            388   \n",
       "8                  72            1774       344           1196   \n",
       "\n",
       "   Motor_vehicle_theft  Arson State  Population^2  Murder Cat  Robbery Cat  \\\n",
       "4                  133     17    CA     971257225           1            1   \n",
       "5                   12      7    CA     431060644           0            1   \n",
       "6                  330     17    CA    5807354436           0            1   \n",
       "7                   75      7    CA     364962816           0            1   \n",
       "8                  234      7    CA    7175784100           1            1   \n",
       "\n",
       "   Robbery Prob  \n",
       "4         0.003  \n",
       "5         0.002  \n",
       "6         0.008  \n",
       "7         0.002  \n",
       "8         0.008  "
      ]
     },
     "execution_count": 6,
     "metadata": {},
     "output_type": "execute_result"
    }
   ],
   "source": [
    "df['Robbery Prob']=df['Population']/10000000\n",
    "df.head()"
   ]
  },
  {
   "cell_type": "code",
   "execution_count": 7,
   "metadata": {},
   "outputs": [
    {
     "data": {
      "text/plain": [
       "1    427\n",
       "0     35\n",
       "Name: Robbery Cat, dtype: int64"
      ]
     },
     "execution_count": 7,
     "metadata": {},
     "output_type": "execute_result"
    }
   ],
   "source": [
    "df['Robbery Cat'].value_counts()"
   ]
  },
  {
   "cell_type": "markdown",
   "metadata": {},
   "source": [
    "Population, population squared, murder and robbery will be the continuous features. These features were chosen becasue they match the linear regression model, which will hopefully make all the models easier to compare afterwards.  "
   ]
  },
  {
   "cell_type": "markdown",
   "metadata": {},
   "source": [
    "## 1) Vanilla logistic regression"
   ]
  },
  {
   "cell_type": "markdown",
   "metadata": {},
   "source": [
    "### Statsmodel"
   ]
  },
  {
   "cell_type": "code",
   "execution_count": 9,
   "metadata": {
    "scrolled": false
   },
   "outputs": [
    {
     "name": "stdout",
     "output_type": "stream",
     "text": [
      "Optimization terminated successfully.\n",
      "         Current function value: 0.008413\n",
      "         Iterations 9\n",
      "                           Logit Regression Results                           \n",
      "==============================================================================\n",
      "Dep. Variable:           Robbery Prob   No. Observations:                  462\n",
      "Model:                          Logit   Df Residuals:                      457\n",
      "Method:                           MLE   Df Model:                            4\n",
      "Date:                Sun, 30 Dec 2018   Pseudo R-squ.:                     inf\n",
      "Time:                        10:23:53   Log-Likelihood:                -3.8868\n",
      "converged:                       True   LL-Null:                        0.0000\n",
      "                                        LLR p-value:                     1.000\n",
      "================================================================================\n",
      "                   coef    std err          z      P>|z|      [0.025      0.975]\n",
      "--------------------------------------------------------------------------------\n",
      "Murder           0.0292      0.081      0.359      0.720      -0.130       0.188\n",
      "Population    4.057e-06   2.64e-06      1.536      0.124   -1.12e-06    9.23e-06\n",
      "Population^2 -1.068e-12   8.48e-13     -1.259      0.208   -2.73e-12    5.94e-13\n",
      "Robbery         -0.0002      0.001     -0.169      0.866      -0.003       0.003\n",
      "intercept       -5.6272      0.764     -7.367      0.000      -7.124      -4.130\n",
      "================================================================================\n"
     ]
    },
    {
     "name": "stderr",
     "output_type": "stream",
     "text": [
      "/Users/kyleknoebel/anaconda3/lib/python3.6/site-packages/ipykernel_launcher.py:6: SettingWithCopyWarning: \n",
      "A value is trying to be set on a copy of a slice from a DataFrame.\n",
      "Try using .loc[row_indexer,col_indexer] = value instead\n",
      "\n",
      "See the caveats in the documentation: http://pandas.pydata.org/pandas-docs/stable/indexing.html#indexing-view-versus-copy\n",
      "  \n",
      "/Users/kyleknoebel/anaconda3/lib/python3.6/site-packages/statsmodels/discrete/discrete_model.py:3313: RuntimeWarning: divide by zero encountered in double_scalars\n",
      "  return 1 - self.llf/self.llnull\n"
     ]
    }
   ],
   "source": [
    "# Declare predictors.\n",
    "X_statsmod = df[['Murder', 'Population', 'Population^2', 'Robbery']]\n",
    "\n",
    "# The Statsmodels formulation requires a column with constant value 1 that\n",
    "# will act as the intercept.\n",
    "X_statsmod['intercept'] = 1 \n",
    "\n",
    "# Declare and fit the model.\n",
    "logit = sm.Logit(df['Robbery Prob'], X_statsmod)\n",
    "result = logit.fit()\n",
    "\n",
    "# Lots of information about the model and its coefficients, but the\n",
    "# accuracy rate for predictions is missing.\n",
    "print(result.summary())"
   ]
  },
  {
   "cell_type": "markdown",
   "metadata": {},
   "source": [
    "This model is very inaccurate, most likely becasue the Robbery Prob feature is not a good indicator of probability of robbery. However, it was a good feature to use to practice with the Statsmodel logistic regression tool. "
   ]
  },
  {
   "cell_type": "markdown",
   "metadata": {},
   "source": [
    "### sklearn"
   ]
  },
  {
   "cell_type": "code",
   "execution_count": 10,
   "metadata": {},
   "outputs": [
    {
     "name": "stdout",
     "output_type": "stream",
     "text": [
      "Coefficients\n",
      "[[7.41821767e-17 1.26802203e-12 1.45745763e-08 1.90136033e-15]]\n",
      "[1.35061799e-16]\n",
      "\n",
      " Accuracy from model\n",
      "Robbery Cat   0    1\n",
      "row_0               \n",
      "1            35  427\n",
      "\n",
      " Percentage accuracy\n",
      "0.9242424242424242\n"
     ]
    }
   ],
   "source": [
    "# Declare a logistic regression classifier.\n",
    "# Parameter regularization coefficient C described above.\n",
    "lr = LogisticRegression(C=1e9)\n",
    "y = df['Robbery Cat']\n",
    "X = df[['Murder', 'Population', 'Population^2', 'Robbery']]\n",
    "\n",
    "# Fit the model.\n",
    "fit = lr.fit(X, y)\n",
    "\n",
    "# Display.\n",
    "print('Coefficients')\n",
    "print(fit.coef_)\n",
    "print(fit.intercept_)\n",
    "pred_y_sklearn = lr.predict(X)\n",
    "\n",
    "print('\\n Accuracy from model')\n",
    "print(pd.crosstab(pred_y_sklearn, y))\n",
    "\n",
    "print('\\n Percentage accuracy')\n",
    "print(lr.score(X, y))"
   ]
  },
  {
   "cell_type": "markdown",
   "metadata": {},
   "source": [
    "This model is much more accurate, most likely as it relies on a binary outcome of robbery. "
   ]
  },
  {
   "cell_type": "markdown",
   "metadata": {},
   "source": [
    "## Ridge logistic regression"
   ]
  },
  {
   "cell_type": "code",
   "execution_count": 11,
   "metadata": {},
   "outputs": [],
   "source": [
    "# create df_run dataset to only include features discussed above\n",
    "df_run=df[['Murder', 'Population', 'Population^2', 'Robbery', 'Robbery Cat']]"
   ]
  },
  {
   "cell_type": "code",
   "execution_count": 23,
   "metadata": {},
   "outputs": [
    {
     "name": "stdout",
     "output_type": "stream",
     "text": [
      "\n",
      "R-squared simple model:\n",
      "0.935064935064935\n"
     ]
    },
    {
     "name": "stderr",
     "output_type": "stream",
     "text": [
      "/Users/kyleknoebel/anaconda3/lib/python3.6/site-packages/sklearn/utils/validation.py:578: DataConversionWarning: A column-vector y was passed when a 1d array was expected. Please change the shape of y to (n_samples, ), for example using ravel().\n",
      "  y = column_or_1d(y, warn=True)\n"
     ]
    }
   ],
   "source": [
    "# Define the training and test sizes.\n",
    "Y = df['Robbery Cat']\n",
    "trainsize = int(df.shape[0] / 2)\n",
    "df_test = df_run.iloc[trainsize:, :].copy()\n",
    "df_train = df_run.iloc[:trainsize, :].copy()\n",
    "\n",
    "# Set up the regression model to predict defaults using all other\n",
    "# variables as features.\n",
    "ridgeregr = LogisticRegression(penalty='l2', random_state=0, fit_intercept=False, solver='lbfgs', \n",
    "                               multi_class='multinomial')\n",
    "Y_train = df_train['Robbery Cat'].values.reshape(-1, 1)\n",
    "X_train = df_train.loc[:, ~(df_train.columns).isin(['Robbery Cat'])]\n",
    "ridgeregr.fit(X_train, Y_train)\n",
    "print('\\nR-squared simple model:')\n",
    "print(ridgeregr.score(X_train, Y_train))"
   ]
  },
  {
   "cell_type": "code",
   "execution_count": 25,
   "metadata": {},
   "outputs": [
    {
     "name": "stdout",
     "output_type": "stream",
     "text": [
      "\n",
      "R-squared complex model:\n",
      "0.935064935064935\n"
     ]
    },
    {
     "name": "stderr",
     "output_type": "stream",
     "text": [
      "/Users/kyleknoebel/anaconda3/lib/python3.6/site-packages/sklearn/utils/validation.py:578: DataConversionWarning: A column-vector y was passed when a 1d array was expected. Please change the shape of y to (n_samples, ), for example using ravel().\n",
      "  y = column_or_1d(y, warn=True)\n"
     ]
    }
   ],
   "source": [
    "# Re-run the model with the new features.\n",
    "X_train2 = df_train.loc[:, ~(df_train.columns).isin(['Robbery Cat'])]\n",
    "ridgeregr.fit(X_train2, Y_train)\n",
    "print('\\nR-squared complex model:')\n",
    "print(ridgeregr.score(X_train2, Y_train))"
   ]
  },
  {
   "cell_type": "markdown",
   "metadata": {},
   "source": [
    "The model is just as accurate on small and large training sizes. Since ridge regression eliminates overfitting, this could be a sign that there is not much multicollinearity in the data.  "
   ]
  },
  {
   "cell_type": "markdown",
   "metadata": {},
   "source": [
    "## Lasso logistic regression"
   ]
  },
  {
   "cell_type": "code",
   "execution_count": 31,
   "metadata": {},
   "outputs": [
    {
     "name": "stdout",
     "output_type": "stream",
     "text": [
      "R² for the model with few features:\n",
      "0.935064935064935\n"
     ]
    },
    {
     "name": "stderr",
     "output_type": "stream",
     "text": [
      "/Users/kyleknoebel/anaconda3/lib/python3.6/site-packages/sklearn/utils/validation.py:578: DataConversionWarning: A column-vector y was passed when a 1d array was expected. Please change the shape of y to (n_samples, ), for example using ravel().\n",
      "  y = column_or_1d(y, warn=True)\n"
     ]
    }
   ],
   "source": [
    "# Define the training and test sizes.\n",
    "trainsize = int(df.shape[0] / 2)\n",
    "df_test = df_run.iloc[trainsize:, :].copy()\n",
    "df_train = df_run.iloc[:trainsize, :].copy()\n",
    "\n",
    "Y_train = df_train['Robbery Cat'].values.reshape(-1, 1)\n",
    "X_train = df_train.loc[:, ~(df_train.columns).isin(['Robbery Cat'])]\n",
    "# Test the simpler model with smaller coefficients.\n",
    "Y_test = df_test['Robbery Cat'].values.reshape(-1, 1)\n",
    "X_test = df_test.loc[:, ~(df_test.columns).isin(['Robbery Cat'])]\n",
    "\n",
    "# Small number of parameters.\n",
    "lassregr = LogisticRegression(penalty='l1', random_state=0, fit_intercept=False, solver='liblinear')\n",
    "lassregr.fit(X_train, Y_train)\n",
    "print('R² for the cimpler model:')\n",
    "print(lassregr.score(X_train, Y_train))"
   ]
  },
  {
   "cell_type": "code",
   "execution_count": 32,
   "metadata": {},
   "outputs": [
    {
     "name": "stdout",
     "output_type": "stream",
     "text": [
      "\n",
      "R-squared complex model:\n",
      "0.935064935064935\n"
     ]
    },
    {
     "name": "stderr",
     "output_type": "stream",
     "text": [
      "/Users/kyleknoebel/anaconda3/lib/python3.6/site-packages/sklearn/utils/validation.py:578: DataConversionWarning: A column-vector y was passed when a 1d array was expected. Please change the shape of y to (n_samples, ), for example using ravel().\n",
      "  y = column_or_1d(y, warn=True)\n"
     ]
    }
   ],
   "source": [
    "X_train2 = df_train.loc[:, ~(df_train.columns).isin(['Robbery Cat'])]\n",
    "\n",
    "# Re-run the model with the new features.\n",
    "X_train2 = df_train.loc[:, ~(df_train.columns).isin(['Robbery Cat'])]\n",
    "lassregr.fit(X_train2, Y_train)\n",
    "print('\\nR-squared complex model:')\n",
    "print(lassregr.score(X_train2, Y_train))"
   ]
  },
  {
   "cell_type": "markdown",
   "metadata": {},
   "source": [
    "This accuracy of this model also did not change between training and test populations. As Lasso logistic regression eliminates some parameters, it is possible that none of the features zeroed out, or the ones that did had no effect on the outcome of the model. "
   ]
  },
  {
   "cell_type": "code",
   "execution_count": null,
   "metadata": {},
   "outputs": [],
   "source": []
  }
 ],
 "metadata": {
  "kernelspec": {
   "display_name": "Python 3",
   "language": "python",
   "name": "python3"
  },
  "language_info": {
   "codemirror_mode": {
    "name": "ipython",
    "version": 3
   },
   "file_extension": ".py",
   "mimetype": "text/x-python",
   "name": "python",
   "nbconvert_exporter": "python",
   "pygments_lexer": "ipython3",
   "version": "3.6.5"
  }
 },
 "nbformat": 4,
 "nbformat_minor": 2
}
