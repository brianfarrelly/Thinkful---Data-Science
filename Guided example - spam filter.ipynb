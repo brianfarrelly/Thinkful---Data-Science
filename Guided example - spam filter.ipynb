{
 "cells": [
  {
   "cell_type": "code",
   "execution_count": 2,
   "metadata": {},
   "outputs": [],
   "source": [
    "%matplotlib inline\n",
    "import numpy as np\n",
    "import pandas as pd\n",
    "import scipy\n",
    "import sklearn\n",
    "import matplotlib.pyplot as plt\n",
    "import seaborn as sns\n",
    "import numpy"
   ]
  },
  {
   "cell_type": "markdown",
   "metadata": {},
   "source": [
    "Here we're going to go through a basic Naive Bayes classifier. Specifically we're going to build a spam filter. As we've said before, this is a classic use for this kind of classifier and it's not too difficult to set up. The dataset we'll work with is UC Irvine's SMS spam dataset.\n",
    "\n",
    "This dataset has a few nice attributes. Firstly, it's pre-labelled, which is great for our purposes as we don't have to make our own spam/ham labels ('ham' being the common term to denote a message that is not spam). Secondly, the dataset is relatively small, which will allow us to show off one of the great things about Naive Bayes, its ability to train on relatively little data while achieving reasonable accuracy."
   ]
  },
  {
   "cell_type": "code",
   "execution_count": 3,
   "metadata": {},
   "outputs": [],
   "source": [
    "# Grab and process the raw data.\n",
    "data_path = (\"https://raw.githubusercontent.com/Thinkful-Ed/data-201-resources/\"\n",
    "             \"master/sms_spam_collection/SMSSpamCollection\"\n",
    "            )\n",
    "sms_raw = pd.read_csv(data_path, delimiter= '\\t', header=None)\n",
    "sms_raw.columns = ['spam', 'message']"
   ]
  },
  {
   "cell_type": "code",
   "execution_count": 4,
   "metadata": {},
   "outputs": [],
   "source": [
    "keywords = ['click', 'offer', 'winner', 'buy', 'free', 'cash', 'urgent', 'limited']\n",
    "\n",
    "for key in keywords:\n",
    "    # Note that we add spaces around the key so that we're getting the word,\n",
    "    # not just pattern matching.\n",
    "    sms_raw[str(key)] = sms_raw.message.str.contains(\n",
    "        ' ' + str(key) + ' ',\n",
    "        case=False\n",
    "    )"
   ]
  },
  {
   "cell_type": "code",
   "execution_count": 5,
   "metadata": {},
   "outputs": [],
   "source": [
    "sms_raw['allcaps'] = sms_raw.message.str.isupper()"
   ]
  },
  {
   "cell_type": "code",
   "execution_count": 6,
   "metadata": {},
   "outputs": [],
   "source": [
    "sms_raw['spam'] = (sms_raw['spam'] == 'spam')\n",
    "# Note that if you run this cell a second time everything will become false.\n",
    "# So... Don't."
   ]
  },
  {
   "cell_type": "code",
   "execution_count": 7,
   "metadata": {},
   "outputs": [
    {
     "data": {
      "text/plain": [
       "<matplotlib.axes._subplots.AxesSubplot at 0x10c001668>"
      ]
     },
     "execution_count": 7,
     "metadata": {},
     "output_type": "execute_result"
    },
    {
     "data": {
      "image/png": "[encoded data removed]",
      "text/plain": [
       "<Figure size 432x288 with 2 Axes>"
      ]
     },
     "metadata": {},
     "output_type": "display_data"
    }
   ],
   "source": [
    "sns.heatmap(sms_raw.corr())"
   ]
  },
  {
   "cell_type": "code",
   "execution_count": 8,
   "metadata": {},
   "outputs": [],
   "source": [
    "data = sms_raw[keywords + ['allcaps']]\n",
    "target = sms_raw['spam']"
   ]
  },
  {
   "cell_type": "code",
   "execution_count": 9,
   "metadata": {},
   "outputs": [
    {
     "name": "stdout",
     "output_type": "stream",
     "text": [
      "Number of mislabeled points out of a total 5572 points : 604\n"
     ]
    }
   ],
   "source": [
    "# Our data is binary / boolean, so we're importing the Bernoulli classifier.\n",
    "from sklearn.naive_bayes import BernoulliNB\n",
    "\n",
    "# Instantiate our model and store it in a new variable.\n",
    "bnb = BernoulliNB()\n",
    "\n",
    "# Fit our model to the data.\n",
    "bnb.fit(data, target)\n",
    "\n",
    "# Classify, storing the result in a new variable.\n",
    "y_pred = bnb.predict(data)\n",
    "\n",
    "# Display our results.\n",
    "print(\"Number of mislabeled points out of a total {} points : {}\".format(\n",
    "    data.shape[0],\n",
    "    (target != y_pred).sum()\n",
    "))"
   ]
  },
  {
   "cell_type": "markdown",
   "metadata": {},
   "source": [
    "## Success metric"
   ]
  },
  {
   "cell_type": "code",
   "execution_count": 10,
   "metadata": {},
   "outputs": [
    {
     "name": "stdout",
     "output_type": "stream",
     "text": [
      "The success rate of this classifier is 89.16008614501077%\n"
     ]
    }
   ],
   "source": [
    "print('The success rate of this classifier is {}%'.format(((5572-604)/5572)*100))"
   ]
  },
  {
   "cell_type": "markdown",
   "metadata": {},
   "source": [
    "The next level of analysis of your classifier is often something called a Confusion Matrix. This is a matrix that shows the count of each possible permutation of target and prediction. So in our case, it will show the counts for when a message was ham and we predicted ham, when a message was ham and we predicted spam, when a message was spam and we predicted ham, and when a message was spam and we predicted spam."
   ]
  },
  {
   "cell_type": "code",
   "execution_count": 11,
   "metadata": {},
   "outputs": [
    {
     "data": {
      "text/plain": [
       "array([[4770,   55],\n",
       "       [ 549,  198]])"
      ]
     },
     "execution_count": 11,
     "metadata": {},
     "output_type": "execute_result"
    }
   ],
   "source": [
    "from sklearn.metrics import confusion_matrix\n",
    "confusion_matrix(target, y_pred)"
   ]
  },
  {
   "cell_type": "markdown",
   "metadata": {},
   "source": [
    "### Calculate the confusion matrix without sklearn"
   ]
  },
  {
   "cell_type": "code",
   "execution_count": 12,
   "metadata": {},
   "outputs": [
    {
     "name": "stdout",
     "output_type": "stream",
     "text": [
      "4629 196\n",
      "545 202\n",
      "The sensitivity of this model is 27.26045883940621%\n",
      "The specificity of this model is 95.93782383419689%\n"
     ]
    }
   ],
   "source": [
    "# Build your confusion matrix and calculate sensitivity and specificity here.\n",
    "count_tl=0\n",
    "count_tr=0\n",
    "count_bl=0\n",
    "count_br=0\n",
    "for x in sms_raw.index:\n",
    "    if sms_raw.spam.loc[x] == False and (sms_raw.click.loc[x] == False and sms_raw.offer.loc[x] == False and sms_raw.winner.loc[x] == False and sms_raw.buy.loc[x] == False and sms_raw.free.loc[x] == False and sms_raw.cash.loc[x] == False and sms_raw.urgent.loc[x] == False and sms_raw.limited.loc[x]==False and sms_raw.allcaps.loc[x] == False):\n",
    "        count_tl=count_tl + 1\n",
    "    elif sms_raw.spam.loc[x] == False and (sms_raw.click.loc[x] == True or sms_raw.offer.loc[x] == True or sms_raw.winner.loc[x] == True or sms_raw.buy.loc[x] == True or sms_raw.free.loc[x] == True or sms_raw.cash.loc[x] == True or sms_raw.urgent.loc[x] == True or sms_raw.limited.loc[x] ==True or sms_raw.allcaps.loc[x] == True):\n",
    "        count_tr=count_tr+1\n",
    "    elif sms_raw.spam.loc[x] == True and (sms_raw.click.loc[x] == False and sms_raw.offer.loc[x] == False and sms_raw.winner.loc[x] == False and sms_raw.buy.loc[x] == False and sms_raw.free.loc[x] == False and sms_raw.cash.loc[x] == False and sms_raw.urgent.loc[x] == False and sms_raw.limited.loc[x]==False and sms_raw.allcaps.loc[x] == False):\n",
    "        count_bl=count_bl+1\n",
    "    elif sms_raw.spam.loc[x] == True and (sms_raw.click.loc[x] == True or sms_raw.offer.loc[x] == True or sms_raw.winner.loc[x] == True or sms_raw.buy.loc[x] == True or sms_raw.free.loc[x] == True or sms_raw.cash.loc[x] == True or sms_raw.urgent.loc[x] == True or sms_raw.limited.loc[x] ==True or sms_raw.allcaps.loc[x] == True):\n",
    "        count_br=count_br+1\n",
    "    \n",
    "print(count_tl, count_tr)\n",
    "print(count_bl, count_br)\n",
    "\n",
    "print('The sensitivity of this model is {}%'.format((count_br/(count_tr+count_bl))*100))\n",
    "print('The specificity of this model is {}%'.format((count_tl/4825)*100))\n"
   ]
  },
  {
   "cell_type": "markdown",
   "metadata": {},
   "source": [
    "## Cross validation"
   ]
  },
  {
   "cell_type": "code",
   "execution_count": 13,
   "metadata": {},
   "outputs": [
    {
     "name": "stdout",
     "output_type": "stream",
     "text": [
      "With 20% Holdout: 0.884304932735426\n",
      "Testing on Sample: 0.8916008614501076\n"
     ]
    }
   ],
   "source": [
    "# Test your model with different holdout groups.\n",
    "\n",
    "from sklearn.model_selection import train_test_split\n",
    "# Use train_test_split to create the necessary training and test groups\n",
    "X_train, X_test, y_train, y_test = train_test_split(data, target, test_size=0.2, random_state=20)\n",
    "print('With 20% Holdout: ' + str(bnb.fit(X_train, y_train).score(X_test, y_test)))\n",
    "print('Testing on Sample: ' + str(bnb.fit(data, target).score(data, target)))"
   ]
  },
  {
   "cell_type": "code",
   "execution_count": 14,
   "metadata": {},
   "outputs": [
    {
     "data": {
      "text/plain": [
       "array([0.89784946, 0.89426523, 0.89426523, 0.890681  , 0.89605735,\n",
       "       0.89048474, 0.88150808, 0.89028777, 0.88489209, 0.89568345])"
      ]
     },
     "execution_count": 14,
     "metadata": {},
     "output_type": "execute_result"
    }
   ],
   "source": [
    "# run cross validation on data\n",
    "from sklearn.model_selection import cross_val_score\n",
    "cross_val_score(bnb, data, target, cv=10)"
   ]
  },
  {
   "cell_type": "markdown",
   "metadata": {},
   "source": [
    "### Calculate cross validation without sklearn"
   ]
  },
  {
   "cell_type": "code",
   "execution_count": 51,
   "metadata": {},
   "outputs": [
    {
     "name": "stdout",
     "output_type": "stream",
     "text": [
      "0.8761220825852782\n",
      "0.8850987432675045\n",
      "0.8904847396768402\n",
      "0.895870736086176\n",
      "0.895870736086176\n",
      "0.9012567324955116\n",
      "0.9084380610412927\n",
      "0.881508078994614\n",
      "0.8779174147217235\n",
      "0.8725314183123878\n"
     ]
    }
   ],
   "source": [
    "# randomize dataframe\n",
    "sms_random=sms_raw.sample(frac=1)\n",
    "for i in range(10):\n",
    "    # create train and test populations\n",
    "    train=sms_random.sample(frac=0.1)\n",
    "    test=sms_random.drop(train.index)\n",
    "    # get truth and false values for testing\n",
    "    data_tr = train[keywords + ['allcaps']]\n",
    "    target_tr = train['spam']\n",
    "    # re-classify the data for each sample\n",
    "    from sklearn.naive_bayes import BernoulliNB\n",
    "    bnb_tr = BernoulliNB()\n",
    "    y_pred_tr = bnb_tr.fit(data_tr, target_tr).predict(data_tr)\n",
    "    # print success metrics of each train population\n",
    "    print(((target_tr == y_pred_tr).sum())/len(target_tr))"
   ]
  },
  {
   "cell_type": "markdown",
   "metadata": {},
   "source": [
    "## What is a good score?"
   ]
  },
  {
   "cell_type": "markdown",
   "metadata": {},
   "source": [
    "Using the topics we introduced earlier in this lesson, try to do a more in depth evaluation of the model looking at the kind of errors we're generating and what accuracy we'd get if we just randomly guessed. You may want to use what's known as a confusion matrix to show different kinds of errors."
   ]
  },
  {
   "cell_type": "code",
   "execution_count": 56,
   "metadata": {},
   "outputs": [
    {
     "name": "stdout",
     "output_type": "stream",
     "text": [
      "The confusion matrix for this sample is [[474   5]\n",
      " [ 56  22]]\n",
      "The confusion matrix for this sample is [[480   4]\n",
      " [ 58  15]]\n",
      "The confusion matrix for this sample is [[483   3]\n",
      " [ 56  15]]\n",
      "The confusion matrix for this sample is [[473   6]\n",
      " [ 56  22]]\n",
      "The confusion matrix for this sample is [[478   4]\n",
      " [ 59  16]]\n",
      "The confusion matrix for this sample is [[480   2]\n",
      " [ 68   7]]\n",
      "The confusion matrix for this sample is [[488   2]\n",
      " [ 50  17]]\n",
      "The confusion matrix for this sample is [[467   5]\n",
      " [ 71  14]]\n",
      "The confusion matrix for this sample is [[484   6]\n",
      " [ 52  15]]\n",
      "The confusion matrix for this sample is [[472   6]\n",
      " [ 63  16]]\n"
     ]
    }
   ],
   "source": [
    "# Perform your additional evaluation here.\n",
    "# randomize dataframe\n",
    "sms_random=sms_raw.sample(frac=1)\n",
    "for i in range(10):\n",
    "    # create train and test populations\n",
    "    train=sms_random.sample(frac=0.1)\n",
    "    test=sms_random.drop(train.index)\n",
    "    # get truth and false values for testing\n",
    "    data_tr = train[keywords + ['allcaps']]\n",
    "    target_tr = train['spam']\n",
    "    # re-classify the data for each sample\n",
    "    from sklearn.naive_bayes import BernoulliNB\n",
    "    bnb_tr = BernoulliNB()\n",
    "    y_pred_tr = bnb_tr.fit(data_tr, target_tr).predict(data_tr)\n",
    "    # print success metrics of each train population\n",
    "    from sklearn.metrics import confusion_matrix\n",
    "    print('The confusion matrix for this sample is {}'.format(confusion_matrix(target_tr, y_pred_tr)))"
   ]
  },
  {
   "cell_type": "markdown",
   "metadata": {},
   "source": [
    "The confusion matrices for each test population show that the majority of the errors in this filter come from the bottom left corners of the matrices, or 'spam and predicted ham.' This means the filter is not correctly predicitng enough of the spam emails. In addition, the larger sample sizes show nuch larger erros in the top right corner of the matrix, or 'ham and predicted spam.' This shows that the filter will have many more errors when run with greater amounts of emails. Recommendations to fix this problem include:\n",
    "- adding more keywords to the filter\n",
    "- adding in a section that accounts for multiple excalamation points\n",
    "- creating a better method to find proper spam keywords"
   ]
  },
  {
   "cell_type": "code",
   "execution_count": null,
   "metadata": {},
   "outputs": [],
   "source": []
  }
 ],
 "metadata": {
  "kernelspec": {
   "display_name": "Python 3",
   "language": "python",
   "name": "python3"
  },
  "language_info": {
   "codemirror_mode": {
    "name": "ipython",
    "version": 3
   },
   "file_extension": ".py",
   "mimetype": "text/x-python",
   "name": "python",
   "nbconvert_exporter": "python",
   "pygments_lexer": "ipython3",
   "version": "3.7.0"
  }
 },
 "nbformat": 4,
 "nbformat_minor": 2
}
