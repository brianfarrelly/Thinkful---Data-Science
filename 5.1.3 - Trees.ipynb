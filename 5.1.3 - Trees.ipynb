{
 "cells": [
  {
   "cell_type": "markdown",
   "metadata": {},
   "source": [
    "# DRILL:\n",
    "\n",
    "Implement a binary tree, which is filled with 15 pieces of random data. Your job is to then write a program to traverse the tree using a breadth first traversal. If you want additional practice, try other forms of traversal."
   ]
  },
  {
   "cell_type": "code",
   "execution_count": 13,
   "metadata": {},
   "outputs": [
    {
     "name": "stdout",
     "output_type": "stream",
     "text": [
      "A\n",
      "B\n",
      "D\n",
      "H\n",
      "I\n",
      "E\n",
      "J\n",
      "K\n",
      "C\n",
      "F\n",
      "L\n",
      "M\n",
      "G\n",
      "N\n",
      "O\n"
     ]
    }
   ],
   "source": [
    "# define node class\n",
    "class Node:\n",
    "    def __init__(self,key):\n",
    "        self.left = None\n",
    "        self.right = None\n",
    "        self.val = key\n",
    "\n",
    "# define function to print breadth first traversal  \n",
    "def printheap(root):\n",
    "    if root:\n",
    "        print(root.val)\n",
    "        printheap(root.left)\n",
    "        printheap(root.right)\n",
    "\n",
    "# Establish the initial root node and children\n",
    "root = Node('A')\n",
    "root.left = Node('B')\n",
    "root.right = Node('C')\n",
    "\n",
    "# Add the appropriate children for ‘B’ and ‘C’\n",
    "root.left.left = Node('D')\n",
    "root.left.right = Node('E')\n",
    "root.right.left = Node('F')\n",
    "root.right.right = Node('G')\n",
    "\n",
    "# Add the appropriate children for D, E, F and G\n",
    "root.left.left.left = Node('H')\n",
    "root.left.left.right = Node('I')\n",
    "root.left.right.left = Node('J')\n",
    "root.left.right.right = Node('K')\n",
    "root.right.left.left = Node('L')\n",
    "root.right.left.right = Node('M')\n",
    "root.right.right.left = Node('N')\n",
    "root.right.right.right = Node('O')\n",
    "\n",
    "# call function \n",
    "printheap(root)"
   ]
  }
 ],
 "metadata": {
  "kernelspec": {
   "display_name": "Python 3",
   "language": "python",
   "name": "python3"
  },
  "language_info": {
   "codemirror_mode": {
    "name": "ipython",
    "version": 3
   },
   "file_extension": ".py",
   "mimetype": "text/x-python",
   "name": "python",
   "nbconvert_exporter": "python",
   "pygments_lexer": "ipython3",
   "version": "3.6.8"
  }
 },
 "nbformat": 4,
 "nbformat_minor": 2
}
